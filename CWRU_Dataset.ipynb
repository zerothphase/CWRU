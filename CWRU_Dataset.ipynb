{
 "cells": [
  {
   "cell_type": "markdown",
   "metadata": {},
   "source": [
    "# Prerequisites\n",
    "Understanding in\n",
    "- machine learning and deep learning\n",
    "- python syntax\n",
    "- python libraries: numpy, pandas, Pytorch"
   ]
  },
  {
   "cell_type": "markdown",
   "metadata": {},
   "source": [
    "# Introduction\n",
    "This notebook shows the study of the [CWRU Bearing Dataset](https://csegroups.case.edu/bearingdatacenter/home), which contains data of normal and fault bearings. Artificial defects of different diameters (0.007 ~ 0.028 Inches) are manufactured at different locations of the bearings: inner raceway(IR), outer raceway(OR) and ball(B) defects. \n",
    "\n",
    "Vibration data was recorded for motor loads of 0 to 3 hp (motor speed of 1797 to 1720 RPM) using accelerometers at the drive end (DE) and fan end (FE) and the data is stored as Matlab files. The sampling rate is 12 kHz and each Matlab file contains between ~120k to ~240k sample points. For more information please refer to the [website](https://csegroups.case.edu/bearingdatacenter/home).\n",
    "\n",
    "This study focuses on the classification of the drive end bearing defects using only the signal data at **DE**. It is a **multiclass classification** problem. The input is the vibration signal data at DE and the output is the type of defects:\n",
    "- 0 : Normal (N), \n",
    "- 1 : Fault at Ball (B),\n",
    "- 2 : Fault at Inner Raceway (IR), \n",
    "- 3 : Fault at Outer Raceway (OR), \n"
   ]
  },
  {
   "cell_type": "markdown",
   "metadata": {},
   "source": [
    "\n",
    "# Import"
   ]
  },
  {
   "cell_type": "code",
   "execution_count": 1,
   "metadata": {
    "code_folding": []
   },
   "outputs": [],
   "source": [
    "# Data science libraries\n",
    "import scipy.io\n",
    "import matplotlib.pyplot as plt\n",
    "import numpy as np\n",
    "import pandas as pd\n",
    "from sklearn.model_selection import train_test_split\n",
    "\n",
    "# Pytorch\n",
    "import torch\n",
    "from torch import nn\n",
    "from torch.nn import functional as F\n",
    "from torch import Tensor\n",
    "from torch.utils.data import TensorDataset, DataLoader\n",
    "from torch import optim\n",
    "from torch.nn.modules.loss import CrossEntropyLoss\n",
    "\n",
    "# Others\n",
    "from IPython.core.debugger import set_trace\n",
    "from pathlib import Path\n",
    "\n",
    "from helper import get_df_all, download\n",
    "from train_helper import get_dataloader, fit, validate \n",
    "import nn_model\n",
    "from data_urls import URLS"
   ]
  },
  {
   "cell_type": "code",
   "execution_count": 2,
   "metadata": {},
   "outputs": [],
   "source": [
    "working_dir = Path('.')\n",
    "DATA_PATH = Path(\"./Data\")\n",
    "save_model_path = working_dir / 'Model'\n",
    "DE_path = DATA_PATH / '12k_DE'\n",
    "FE_path = DATA_PATH / '12k_FE'\n",
    "\n",
    "for path in [DATA_PATH, save_model_path]:\n",
    "    if not path.exists():\n",
    "        path.mkdir(parents=True)"
   ]
  },
  {
   "cell_type": "code",
   "execution_count": 3,
   "metadata": {},
   "outputs": [],
   "source": [
    "# # Uncomment this to download the 12k_DE data if needed\n",
    "# for name, url in URLS[\"DE_12k\"].items():\n",
    "#     download(url, DE_path, name, suffix=\".mat\")"
   ]
  },
  {
   "cell_type": "code",
   "execution_count": 4,
   "metadata": {},
   "outputs": [],
   "source": [
    "#### HYPERPARAMETERS ####\n",
    "bs = 64\n",
    "lr = 0.001\n",
    "wd = 1e-5\n",
    "betas=(0.99, 0.999)\n",
    "device = torch.device(\"cuda\") if torch.cuda.is_available() else torch.device(\"cpu\")\n",
    "random_seed = 42"
   ]
  },
  {
   "cell_type": "markdown",
   "metadata": {},
   "source": [
    "# Load Data and Preprocessing"
   ]
  },
  {
   "cell_type": "code",
   "execution_count": 5,
   "metadata": {},
   "outputs": [],
   "source": [
    "df_all = get_df_all(DE_path, segment_length=500)\n",
    "features = df_all.columns[2:]\n",
    "target = 'label'"
   ]
  },
  {
   "cell_type": "code",
   "execution_count": 6,
   "metadata": {},
   "outputs": [
    {
     "data": {
      "text/html": [
       "<div>\n",
       "<style scoped>\n",
       "    .dataframe tbody tr th:only-of-type {\n",
       "        vertical-align: middle;\n",
       "    }\n",
       "\n",
       "    .dataframe tbody tr th {\n",
       "        vertical-align: top;\n",
       "    }\n",
       "\n",
       "    .dataframe thead th {\n",
       "        text-align: right;\n",
       "    }\n",
       "</style>\n",
       "<table border=\"1\" class=\"dataframe\">\n",
       "  <thead>\n",
       "    <tr style=\"text-align: right;\">\n",
       "      <th></th>\n",
       "      <th>label</th>\n",
       "      <th>filename</th>\n",
       "      <th>0</th>\n",
       "      <th>1</th>\n",
       "      <th>2</th>\n",
       "      <th>3</th>\n",
       "      <th>4</th>\n",
       "      <th>5</th>\n",
       "      <th>6</th>\n",
       "      <th>7</th>\n",
       "      <th>...</th>\n",
       "      <th>490</th>\n",
       "      <th>491</th>\n",
       "      <th>492</th>\n",
       "      <th>493</th>\n",
       "      <th>494</th>\n",
       "      <th>495</th>\n",
       "      <th>496</th>\n",
       "      <th>497</th>\n",
       "      <th>498</th>\n",
       "      <th>499</th>\n",
       "    </tr>\n",
       "  </thead>\n",
       "  <tbody>\n",
       "    <tr>\n",
       "      <th>10097</th>\n",
       "      <td>0</td>\n",
       "      <td>Normal_2.mat</td>\n",
       "      <td>-0.037342</td>\n",
       "      <td>-0.074058</td>\n",
       "      <td>-0.083029</td>\n",
       "      <td>-0.049025</td>\n",
       "      <td>0.017732</td>\n",
       "      <td>0.053197</td>\n",
       "      <td>0.036299</td>\n",
       "      <td>0.003964</td>\n",
       "      <td>...</td>\n",
       "      <td>0.134140</td>\n",
       "      <td>0.136852</td>\n",
       "      <td>0.090122</td>\n",
       "      <td>0.063210</td>\n",
       "      <td>0.084072</td>\n",
       "      <td>0.111818</td>\n",
       "      <td>0.099718</td>\n",
       "      <td>0.041514</td>\n",
       "      <td>0.001460</td>\n",
       "      <td>-0.002086</td>\n",
       "    </tr>\n",
       "    <tr>\n",
       "      <th>4509</th>\n",
       "      <td>2</td>\n",
       "      <td>IR007_2.mat</td>\n",
       "      <td>0.400403</td>\n",
       "      <td>0.019817</td>\n",
       "      <td>-0.224973</td>\n",
       "      <td>-0.043533</td>\n",
       "      <td>0.139857</td>\n",
       "      <td>0.110131</td>\n",
       "      <td>0.129298</td>\n",
       "      <td>-0.027939</td>\n",
       "      <td>...</td>\n",
       "      <td>-0.162922</td>\n",
       "      <td>-0.030538</td>\n",
       "      <td>0.115491</td>\n",
       "      <td>-0.126537</td>\n",
       "      <td>-0.258922</td>\n",
       "      <td>-0.062538</td>\n",
       "      <td>0.211166</td>\n",
       "      <td>0.335916</td>\n",
       "      <td>-0.022091</td>\n",
       "      <td>-0.173156</td>\n",
       "    </tr>\n",
       "    <tr>\n",
       "      <th>11519</th>\n",
       "      <td>3</td>\n",
       "      <td>OR007@12_1.mat</td>\n",
       "      <td>0.347124</td>\n",
       "      <td>0.272404</td>\n",
       "      <td>-0.435164</td>\n",
       "      <td>-0.428504</td>\n",
       "      <td>0.619365</td>\n",
       "      <td>0.444098</td>\n",
       "      <td>-0.879749</td>\n",
       "      <td>-0.239429</td>\n",
       "      <td>...</td>\n",
       "      <td>0.052467</td>\n",
       "      <td>0.152689</td>\n",
       "      <td>-0.049055</td>\n",
       "      <td>-0.146029</td>\n",
       "      <td>0.083004</td>\n",
       "      <td>0.099735</td>\n",
       "      <td>-0.166496</td>\n",
       "      <td>-0.122151</td>\n",
       "      <td>0.085603</td>\n",
       "      <td>-0.060588</td>\n",
       "    </tr>\n",
       "    <tr>\n",
       "      <th>16852</th>\n",
       "      <td>3</td>\n",
       "      <td>OR021@3_3.mat</td>\n",
       "      <td>0.319510</td>\n",
       "      <td>0.356220</td>\n",
       "      <td>0.131897</td>\n",
       "      <td>-0.212465</td>\n",
       "      <td>0.012183</td>\n",
       "      <td>0.087553</td>\n",
       "      <td>-0.054253</td>\n",
       "      <td>-0.335753</td>\n",
       "      <td>...</td>\n",
       "      <td>0.004386</td>\n",
       "      <td>0.066111</td>\n",
       "      <td>-0.018030</td>\n",
       "      <td>-0.011046</td>\n",
       "      <td>0.146841</td>\n",
       "      <td>0.110131</td>\n",
       "      <td>0.068872</td>\n",
       "      <td>-0.004386</td>\n",
       "      <td>0.020304</td>\n",
       "      <td>-0.047918</td>\n",
       "    </tr>\n",
       "    <tr>\n",
       "      <th>2086</th>\n",
       "      <td>1</td>\n",
       "      <td>B021_0.mat</td>\n",
       "      <td>-0.018193</td>\n",
       "      <td>0.208892</td>\n",
       "      <td>0.097461</td>\n",
       "      <td>0.019980</td>\n",
       "      <td>0.150902</td>\n",
       "      <td>0.144405</td>\n",
       "      <td>-0.028101</td>\n",
       "      <td>0.032487</td>\n",
       "      <td>...</td>\n",
       "      <td>-0.024853</td>\n",
       "      <td>0.128161</td>\n",
       "      <td>0.092426</td>\n",
       "      <td>-0.067573</td>\n",
       "      <td>-0.013645</td>\n",
       "      <td>0.139694</td>\n",
       "      <td>0.031188</td>\n",
       "      <td>-0.063512</td>\n",
       "      <td>0.070010</td>\n",
       "      <td>0.071634</td>\n",
       "    </tr>\n",
       "  </tbody>\n",
       "</table>\n",
       "<p>5 rows × 502 columns</p>\n",
       "</div>"
      ],
      "text/plain": [
       "       label        filename         0         1         2         3  \\\n",
       "10097      0    Normal_2.mat -0.037342 -0.074058 -0.083029 -0.049025   \n",
       "4509       2     IR007_2.mat  0.400403  0.019817 -0.224973 -0.043533   \n",
       "11519      3  OR007@12_1.mat  0.347124  0.272404 -0.435164 -0.428504   \n",
       "16852      3   OR021@3_3.mat  0.319510  0.356220  0.131897 -0.212465   \n",
       "2086       1      B021_0.mat -0.018193  0.208892  0.097461  0.019980   \n",
       "\n",
       "              4         5         6         7  ...       490       491  \\\n",
       "10097  0.017732  0.053197  0.036299  0.003964  ...  0.134140  0.136852   \n",
       "4509   0.139857  0.110131  0.129298 -0.027939  ... -0.162922 -0.030538   \n",
       "11519  0.619365  0.444098 -0.879749 -0.239429  ...  0.052467  0.152689   \n",
       "16852  0.012183  0.087553 -0.054253 -0.335753  ...  0.004386  0.066111   \n",
       "2086   0.150902  0.144405 -0.028101  0.032487  ... -0.024853  0.128161   \n",
       "\n",
       "            492       493       494       495       496       497       498  \\\n",
       "10097  0.090122  0.063210  0.084072  0.111818  0.099718  0.041514  0.001460   \n",
       "4509   0.115491 -0.126537 -0.258922 -0.062538  0.211166  0.335916 -0.022091   \n",
       "11519 -0.049055 -0.146029  0.083004  0.099735 -0.166496 -0.122151  0.085603   \n",
       "16852 -0.018030 -0.011046  0.146841  0.110131  0.068872 -0.004386  0.020304   \n",
       "2086   0.092426 -0.067573 -0.013645  0.139694  0.031188 -0.063512  0.070010   \n",
       "\n",
       "            499  \n",
       "10097 -0.002086  \n",
       "4509  -0.173156  \n",
       "11519 -0.060588  \n",
       "16852 -0.047918  \n",
       "2086   0.071634  \n",
       "\n",
       "[5 rows x 502 columns]"
      ]
     },
     "execution_count": 6,
     "metadata": {},
     "output_type": "execute_result"
    }
   ],
   "source": [
    "df_all.sample(5)"
   ]
  },
  {
   "cell_type": "code",
   "execution_count": 7,
   "metadata": {},
   "outputs": [
    {
     "data": {
      "text/plain": [
       "(17987, 502)"
      ]
     },
     "execution_count": 7,
     "metadata": {},
     "output_type": "execute_result"
    }
   ],
   "source": [
    "df_all.shape"
   ]
  },
  {
   "cell_type": "code",
   "execution_count": 8,
   "metadata": {},
   "outputs": [],
   "source": [
    "## Split the data into train and validation set\n",
    "X_train, X_valid, y_train, y_valid = train_test_split(df_all[features], \n",
    "                                                      df_all[target], \n",
    "                                                      test_size=0.20, random_state=random_seed, shuffle=True\n",
    "                                                     )"
   ]
  },
  {
   "cell_type": "code",
   "execution_count": 9,
   "metadata": {},
   "outputs": [],
   "source": [
    "## Create DataLoader of train and validation set\n",
    "X_train = torch.tensor(X_train.values, dtype=torch.float32)\n",
    "X_valid = torch.tensor(X_valid.values, dtype=torch.float32)\n",
    "y_train = torch.tensor(y_train.values, dtype=torch.long)\n",
    "y_valid = torch.tensor(y_valid.values, dtype=torch.long)\n",
    "\n",
    "train_ds = TensorDataset(X_train, y_train)\n",
    "valid_ds = TensorDataset(X_valid, y_valid)\n",
    "train_dl, valid_dl = get_dataloader(train_ds, valid_ds, bs)"
   ]
  },
  {
   "cell_type": "markdown",
   "metadata": {},
   "source": [
    "# Training with Adams Optimizer"
   ]
  },
  {
   "cell_type": "code",
   "execution_count": 10,
   "metadata": {},
   "outputs": [],
   "source": [
    "## Instantiate model, optimizer and loss function\n",
    "model = nn_model.CNN_1D_2L(len(features))\n",
    "model.to(device)\n",
    "opt = optim.Adam(model.parameters(), lr=lr, betas=betas, weight_decay=wd)\n",
    "loss_func = CrossEntropyLoss()"
   ]
  },
  {
   "cell_type": "code",
   "execution_count": 11,
   "metadata": {},
   "outputs": [
    {
     "name": "stdout",
     "output_type": "stream",
     "text": [
      "EPOCH \t Train Loss \t Val Loss \t Train Acc \t Val Acc \t\n",
      "0 \t 0.69507 \t 0.55293 \t 0.00000 \t0.74291 \t\n",
      "1 \t 0.28088 \t 0.13620 \t 0.00000 \t0.96470 \t\n",
      "2 \t 0.13778 \t 0.10443 \t 0.00000 \t0.96776 \t\n",
      "3 \t 0.11517 \t 0.10766 \t 0.00000 \t0.96331 \t\n",
      "4 \t 0.10318 \t 0.05372 \t 0.00000 \t0.98221 \t\n",
      "5 \t 0.06259 \t 0.11454 \t 0.00000 \t0.95775 \t\n",
      "6 \t 0.06185 \t 0.02922 \t 0.00000 \t0.99055 \t\n",
      "7 \t 0.06488 \t 0.12063 \t 0.00000 \t0.95497 \t\n",
      "8 \t 0.11528 \t 0.06886 \t 0.00000 \t0.97526 \t\n",
      "9 \t 0.08687 \t 0.08658 \t 0.00000 \t0.96998 \t\n",
      "10 \t 0.08889 \t 0.03706 \t 0.00000 \t0.98555 \t\n",
      "11 \t 0.09271 \t 0.02116 \t 0.00000 \t0.99444 \t\n",
      "12 \t 0.05223 \t 0.02518 \t 0.00000 \t0.99333 \t\n",
      "13 \t 0.05163 \t 0.03168 \t 0.00000 \t0.98694 \t\n",
      "14 \t 0.03327 \t 0.01448 \t 0.00000 \t0.99500 \t\n",
      "15 \t 0.03796 \t 0.03786 \t 0.00000 \t0.98583 \t\n",
      "16 \t 0.06547 \t 0.03188 \t 0.00000 \t0.98694 \t\n",
      "17 \t 0.04638 \t 0.02037 \t 0.00000 \t0.99416 \t\n",
      "18 \t 0.04591 \t 0.15368 \t 0.00000 \t0.94302 \t\n",
      "19 \t 0.05200 \t 0.05724 \t 0.00000 \t0.98277 \t\n",
      "Wall time: 23min 59s\n"
     ]
    }
   ],
   "source": [
    "%%time\n",
    "## Train\n",
    "epochs = 20\n",
    "model, metrics = fit(epochs, model, loss_func, opt, train_dl, valid_dl, train_metric=False)"
   ]
  },
  {
   "cell_type": "code",
   "execution_count": 12,
   "metadata": {},
   "outputs": [
    {
     "name": "stdout",
     "output_type": "stream",
     "text": [
      "EPOCH \t Train Loss \t Val Loss \t Train Acc \t Val Acc \t\n",
      "0 \t 0.04319 \t 0.01822 \t 0.00000 \t0.99305 \t\n",
      "1 \t 0.03688 \t 0.03391 \t 0.00000 \t0.98471 \t\n",
      "2 \t 0.03701 \t 0.05930 \t 0.00000 \t0.97749 \t\n",
      "3 \t 0.03749 \t 0.02099 \t 0.00000 \t0.99250 \t\n",
      "4 \t 0.06485 \t 0.01811 \t 0.00000 \t0.99389 \t\n",
      "5 \t 0.05885 \t 0.03004 \t 0.00000 \t0.99055 \t\n",
      "6 \t 0.05891 \t 0.01545 \t 0.00000 \t0.99361 \t\n",
      "7 \t 0.03521 \t 0.01278 \t 0.00000 \t0.99611 \t\n",
      "8 \t 0.04258 \t 0.01375 \t 0.00000 \t0.99611 \t\n",
      "9 \t 0.04958 \t 0.05147 \t 0.00000 \t0.97971 \t\n",
      "10 \t 0.05267 \t 0.03447 \t 0.00000 \t0.98805 \t\n",
      "11 \t 0.02937 \t 0.01268 \t 0.00000 \t0.99583 \t\n",
      "12 \t 0.03082 \t 0.04544 \t 0.00000 \t0.98499 \t\n",
      "13 \t 0.02965 \t 0.03133 \t 0.00000 \t0.98749 \t\n",
      "14 \t 0.02374 \t 0.01512 \t 0.00000 \t0.99389 \t\n",
      "15 \t 0.02338 \t 0.01044 \t 0.00000 \t0.99555 \t\n",
      "16 \t 0.02206 \t 0.03224 \t 0.00000 \t0.98833 \t\n",
      "17 \t 0.02528 \t 0.01274 \t 0.00000 \t0.99583 \t\n",
      "18 \t 0.02112 \t 0.01835 \t 0.00000 \t0.99250 \t\n",
      "19 \t 0.03252 \t 0.02516 \t 0.00000 \t0.99111 \t\n",
      "Wall time: 24min 20s\n"
     ]
    }
   ],
   "source": [
    "%%time\n",
    "## Train\n",
    "epochs = 20\n",
    "model, metrics = fit(epochs, model, loss_func, opt, train_dl, valid_dl, train_metric=False)"
   ]
  },
  {
   "cell_type": "markdown",
   "metadata": {},
   "source": [
    "# Save trained model"
   ]
  },
  {
   "cell_type": "code",
   "execution_count": 13,
   "metadata": {},
   "outputs": [],
   "source": [
    "torch.save(model.state_dict(), save_model_path / 'model.pth')"
   ]
  },
  {
   "cell_type": "code",
   "execution_count": 13,
   "metadata": {},
   "outputs": [],
   "source": [
    "model2 = nn_model.CNN_1D_2L(len(features))\n",
    "loss_func = CrossEntropyLoss()"
   ]
  },
  {
   "cell_type": "code",
   "execution_count": 14,
   "metadata": {},
   "outputs": [
    {
     "data": {
      "text/plain": [
       "CNN_1D_2L(\n",
       "  (layer1): Sequential(\n",
       "    (0): Conv1d(1, 64, kernel_size=(9,), stride=(1,), padding=(4,))\n",
       "    (1): BatchNorm1d(64, eps=1e-05, momentum=0.1, affine=True, track_running_stats=True)\n",
       "    (2): ReLU()\n",
       "    (3): Dropout(p=0.5)\n",
       "    (4): MaxPool1d(kernel_size=2, stride=2, padding=0, dilation=1, ceil_mode=False)\n",
       "  )\n",
       "  (layer2): Sequential(\n",
       "    (0): Conv1d(64, 128, kernel_size=(5,), stride=(1,), padding=(2,))\n",
       "    (1): BatchNorm1d(128, eps=1e-05, momentum=0.1, affine=True, track_running_stats=True)\n",
       "    (2): ReLU()\n",
       "    (3): Dropout(p=0.5)\n",
       "    (4): AvgPool1d(kernel_size=(2,), stride=(2,), padding=(0,))\n",
       "  )\n",
       "  (linear1): Linear(in_features=16000, out_features=4, bias=True)\n",
       ")"
      ]
     },
     "execution_count": 14,
     "metadata": {},
     "output_type": "execute_result"
    }
   ],
   "source": [
    "model2.load_state_dict(torch.load(save_model_path / 'model.pth'))\n",
    "model2.eval()"
   ]
  },
  {
   "cell_type": "code",
   "execution_count": 15,
   "metadata": {},
   "outputs": [
    {
     "name": "stdout",
     "output_type": "stream",
     "text": [
      "(0.02515624563769852, 0.991106170094497, (array([2, 0, 1, ..., 3, 1, 3], dtype=int64), array([2, 0, 1, ..., 3, 1, 3], dtype=int64)))\n",
      "Wall time: 3.93 s\n"
     ]
    }
   ],
   "source": [
    "%%time\n",
    "print(validate(model2, valid_dl, loss_func))"
   ]
  },
  {
   "cell_type": "markdown",
   "metadata": {},
   "source": [
    "# 12k_FE"
   ]
  },
  {
   "cell_type": "code",
   "execution_count": 8,
   "metadata": {},
   "outputs": [],
   "source": [
    "from helper import matfile_to_df, matfile_to_dic, divide_signal"
   ]
  },
  {
   "cell_type": "code",
   "execution_count": 4,
   "metadata": {},
   "outputs": [],
   "source": [
    "df_FE = matfile_to_df(FE_path)"
   ]
  },
  {
   "cell_type": "code",
   "execution_count": 7,
   "metadata": {},
   "outputs": [],
   "source": [
    "df_FE = df_FE.drop(labels='DE_time', axis=1)"
   ]
  },
  {
   "cell_type": "code",
   "execution_count": 10,
   "metadata": {},
   "outputs": [],
   "source": [
    "df_FE = divide_signal(df_FE, segment_length=500)"
   ]
  },
  {
   "cell_type": "code",
   "execution_count": 11,
   "metadata": {},
   "outputs": [],
   "source": [
    "map_label = {'N':0, 'B':1, 'IR':2, 'OR':3}\n",
    "df_FE['label'] = df_FE['label'].map(map_label)"
   ]
  },
  {
   "cell_type": "code",
   "execution_count": 12,
   "metadata": {},
   "outputs": [
    {
     "data": {
      "text/html": [
       "<div>\n",
       "<style scoped>\n",
       "    .dataframe tbody tr th:only-of-type {\n",
       "        vertical-align: middle;\n",
       "    }\n",
       "\n",
       "    .dataframe tbody tr th {\n",
       "        vertical-align: top;\n",
       "    }\n",
       "\n",
       "    .dataframe thead th {\n",
       "        text-align: right;\n",
       "    }\n",
       "</style>\n",
       "<table border=\"1\" class=\"dataframe\">\n",
       "  <thead>\n",
       "    <tr style=\"text-align: right;\">\n",
       "      <th></th>\n",
       "      <th>label</th>\n",
       "      <th>filename</th>\n",
       "      <th>0</th>\n",
       "      <th>1</th>\n",
       "      <th>2</th>\n",
       "      <th>3</th>\n",
       "      <th>4</th>\n",
       "      <th>5</th>\n",
       "      <th>6</th>\n",
       "      <th>7</th>\n",
       "      <th>...</th>\n",
       "      <th>490</th>\n",
       "      <th>491</th>\n",
       "      <th>492</th>\n",
       "      <th>493</th>\n",
       "      <th>494</th>\n",
       "      <th>495</th>\n",
       "      <th>496</th>\n",
       "      <th>497</th>\n",
       "      <th>498</th>\n",
       "      <th>499</th>\n",
       "    </tr>\n",
       "  </thead>\n",
       "  <tbody>\n",
       "    <tr>\n",
       "      <th>0</th>\n",
       "      <td>1</td>\n",
       "      <td>B007_0.mat</td>\n",
       "      <td>0.319666</td>\n",
       "      <td>0.326170</td>\n",
       "      <td>-0.260481</td>\n",
       "      <td>0.031056</td>\n",
       "      <td>0.446980</td>\n",
       "      <td>0.100485</td>\n",
       "      <td>-0.281294</td>\n",
       "      <td>-0.006992</td>\n",
       "      <td>...</td>\n",
       "      <td>0.042438</td>\n",
       "      <td>0.007805</td>\n",
       "      <td>-0.084713</td>\n",
       "      <td>-0.064063</td>\n",
       "      <td>0.099672</td>\n",
       "      <td>-0.041625</td>\n",
       "      <td>-0.268123</td>\n",
       "      <td>-0.002114</td>\n",
       "      <td>0.074470</td>\n",
       "      <td>-0.060486</td>\n",
       "    </tr>\n",
       "    <tr>\n",
       "      <th>1</th>\n",
       "      <td>1</td>\n",
       "      <td>B007_0.mat</td>\n",
       "      <td>0.100973</td>\n",
       "      <td>0.115769</td>\n",
       "      <td>-0.137720</td>\n",
       "      <td>0.127476</td>\n",
       "      <td>0.268123</td>\n",
       "      <td>-0.188125</td>\n",
       "      <td>-0.163573</td>\n",
       "      <td>0.051218</td>\n",
       "      <td>...</td>\n",
       "      <td>0.011382</td>\n",
       "      <td>-0.086339</td>\n",
       "      <td>-0.105688</td>\n",
       "      <td>-0.029593</td>\n",
       "      <td>-0.004390</td>\n",
       "      <td>-0.071543</td>\n",
       "      <td>-0.180646</td>\n",
       "      <td>0.029105</td>\n",
       "      <td>0.133655</td>\n",
       "      <td>-0.106989</td>\n",
       "    </tr>\n",
       "    <tr>\n",
       "      <th>2</th>\n",
       "      <td>1</td>\n",
       "      <td>B007_0.mat</td>\n",
       "      <td>-0.159183</td>\n",
       "      <td>0.162760</td>\n",
       "      <td>0.082437</td>\n",
       "      <td>-0.057722</td>\n",
       "      <td>0.055283</td>\n",
       "      <td>-0.005203</td>\n",
       "      <td>-0.012195</td>\n",
       "      <td>0.123574</td>\n",
       "      <td>...</td>\n",
       "      <td>-0.078209</td>\n",
       "      <td>0.193979</td>\n",
       "      <td>0.042926</td>\n",
       "      <td>-0.218694</td>\n",
       "      <td>-0.055283</td>\n",
       "      <td>0.187963</td>\n",
       "      <td>-0.065364</td>\n",
       "      <td>-0.273326</td>\n",
       "      <td>0.039674</td>\n",
       "      <td>0.176256</td>\n",
       "    </tr>\n",
       "    <tr>\n",
       "      <th>3</th>\n",
       "      <td>1</td>\n",
       "      <td>B007_0.mat</td>\n",
       "      <td>-0.146988</td>\n",
       "      <td>-0.017398</td>\n",
       "      <td>0.256741</td>\n",
       "      <td>0.039186</td>\n",
       "      <td>-0.040487</td>\n",
       "      <td>0.249262</td>\n",
       "      <td>0.163898</td>\n",
       "      <td>-0.031056</td>\n",
       "      <td>...</td>\n",
       "      <td>-0.259505</td>\n",
       "      <td>0.089754</td>\n",
       "      <td>0.127476</td>\n",
       "      <td>-0.215767</td>\n",
       "      <td>-0.190889</td>\n",
       "      <td>-0.015284</td>\n",
       "      <td>0.101461</td>\n",
       "      <td>-0.098209</td>\n",
       "      <td>-0.219019</td>\n",
       "      <td>0.082274</td>\n",
       "    </tr>\n",
       "    <tr>\n",
       "      <th>4</th>\n",
       "      <td>1</td>\n",
       "      <td>B007_0.mat</td>\n",
       "      <td>0.144224</td>\n",
       "      <td>0.015122</td>\n",
       "      <td>0.108940</td>\n",
       "      <td>0.246823</td>\n",
       "      <td>0.055446</td>\n",
       "      <td>0.118696</td>\n",
       "      <td>0.230075</td>\n",
       "      <td>0.055283</td>\n",
       "      <td>...</td>\n",
       "      <td>-0.006341</td>\n",
       "      <td>-0.021788</td>\n",
       "      <td>0.039349</td>\n",
       "      <td>-0.046178</td>\n",
       "      <td>-0.068941</td>\n",
       "      <td>0.040812</td>\n",
       "      <td>0.043576</td>\n",
       "      <td>-0.139671</td>\n",
       "      <td>-0.173817</td>\n",
       "      <td>-0.043901</td>\n",
       "    </tr>\n",
       "  </tbody>\n",
       "</table>\n",
       "<p>5 rows × 502 columns</p>\n",
       "</div>"
      ],
      "text/plain": [
       "   label    filename         0         1         2         3         4  \\\n",
       "0      1  B007_0.mat  0.319666  0.326170 -0.260481  0.031056  0.446980   \n",
       "1      1  B007_0.mat  0.100973  0.115769 -0.137720  0.127476  0.268123   \n",
       "2      1  B007_0.mat -0.159183  0.162760  0.082437 -0.057722  0.055283   \n",
       "3      1  B007_0.mat -0.146988 -0.017398  0.256741  0.039186 -0.040487   \n",
       "4      1  B007_0.mat  0.144224  0.015122  0.108940  0.246823  0.055446   \n",
       "\n",
       "          5         6         7  ...       490       491       492       493  \\\n",
       "0  0.100485 -0.281294 -0.006992  ...  0.042438  0.007805 -0.084713 -0.064063   \n",
       "1 -0.188125 -0.163573  0.051218  ...  0.011382 -0.086339 -0.105688 -0.029593   \n",
       "2 -0.005203 -0.012195  0.123574  ... -0.078209  0.193979  0.042926 -0.218694   \n",
       "3  0.249262  0.163898 -0.031056  ... -0.259505  0.089754  0.127476 -0.215767   \n",
       "4  0.118696  0.230075  0.055283  ... -0.006341 -0.021788  0.039349 -0.046178   \n",
       "\n",
       "        494       495       496       497       498       499  \n",
       "0  0.099672 -0.041625 -0.268123 -0.002114  0.074470 -0.060486  \n",
       "1 -0.004390 -0.071543 -0.180646  0.029105  0.133655 -0.106989  \n",
       "2 -0.055283  0.187963 -0.065364 -0.273326  0.039674  0.176256  \n",
       "3 -0.190889 -0.015284  0.101461 -0.098209 -0.219019  0.082274  \n",
       "4 -0.068941  0.040812  0.043576 -0.139671 -0.173817 -0.043901  \n",
       "\n",
       "[5 rows x 502 columns]"
      ]
     },
     "execution_count": 12,
     "metadata": {},
     "output_type": "execute_result"
    }
   ],
   "source": [
    "df_FE.head()"
   ]
  },
  {
   "cell_type": "code",
   "execution_count": 13,
   "metadata": {},
   "outputs": [],
   "source": [
    "features = df_FE.columns[2:]\n",
    "target = 'label'"
   ]
  },
  {
   "cell_type": "code",
   "execution_count": 14,
   "metadata": {},
   "outputs": [],
   "source": [
    "X_test, y_test = df_FE[features], df_FE[target]"
   ]
  },
  {
   "cell_type": "code",
   "execution_count": 15,
   "metadata": {},
   "outputs": [],
   "source": [
    "## Create DataLoader of train and validation set\n",
    "X_test = torch.tensor(X_test.values, dtype=torch.float32)\n",
    "y_test = torch.tensor(y_test.values, dtype=torch.long)\n",
    "\n",
    "test_ds = TensorDataset(X_test, y_test)\n",
    "test_dl = DataLoader(test_ds, batch_size=64)"
   ]
  },
  {
   "cell_type": "code",
   "execution_count": 16,
   "metadata": {},
   "outputs": [],
   "source": [
    "model2 = nn_model.CNN_1D_2L(len(features))\n",
    "model2.load_state_dict(torch.load(save_model_path / 'model.pth'))\n",
    "model2.eval()\n",
    "loss_func = CrossEntropyLoss()"
   ]
  },
  {
   "cell_type": "code",
   "execution_count": 17,
   "metadata": {},
   "outputs": [
    {
     "name": "stdout",
     "output_type": "stream",
     "text": [
      "(14.914141002260743, 0.40269873324765926, (array([1, 1, 1, ..., 3, 3, 3], dtype=int64), array([3, 2, 3, ..., 2, 2, 2], dtype=int64)))\n",
      "Wall time: 12.2 s\n"
     ]
    }
   ],
   "source": [
    "%%time\n",
    "print(validate(model2, test_dl, loss_func))"
   ]
  }
 ],
 "metadata": {
  "kernelspec": {
   "display_name": "Python 3",
   "language": "python",
   "name": "python3"
  },
  "language_info": {
   "codemirror_mode": {
    "name": "ipython",
    "version": 3
   },
   "file_extension": ".py",
   "mimetype": "text/x-python",
   "name": "python",
   "nbconvert_exporter": "python",
   "pygments_lexer": "ipython3",
   "version": "3.7.1"
  }
 },
 "nbformat": 4,
 "nbformat_minor": 2
}
